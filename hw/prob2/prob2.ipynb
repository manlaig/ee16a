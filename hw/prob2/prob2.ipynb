{
 "cells": [
  {
   "cell_type": "markdown",
   "metadata": {},
   "source": [
    "# EECS16A: Homework 2"
   ]
  },
  {
   "cell_type": "markdown",
   "metadata": {},
   "source": [
    "## Problem 3: Finding Charges from Potential Measurements"
   ]
  },
  {
   "cell_type": "code",
   "execution_count": 4,
   "metadata": {},
   "outputs": [
    {
     "name": "stdout",
     "output_type": "stream",
     "text": [
      "[1. 2. 3.]\n"
     ]
    }
   ],
   "source": [
    "# Your code here.\n",
    "import numpy as np\n",
    "from math import sqrt\n",
    "a = np.array([\n",
    "    [1/sqrt(2), 1/sqrt(5), 1/2],\n",
    "    [1, 1/sqrt(2), 1],\n",
    "    [1/2, 1/sqrt(5), 1/sqrt(2)]\n",
    "])\n",
    "b = np.array([(4 + 3*sqrt(5) + sqrt(10)) / (2*sqrt(5)),\n",
    "              (2 + 4*sqrt(2)) / sqrt(2),\n",
    "              (4 + sqrt(5) + 3*sqrt(10)) / (2*sqrt(5))])\n",
    "x = np.linalg.solve(a, b)\n",
    "print(x)"
   ]
  },
  {
   "cell_type": "markdown",
   "metadata": {},
   "source": [
    "## Problem 4: Kinematic Model for a Simple Car\n",
    "\n",
    "This script helps to visualize the difference between a nonlinear model and a corresponding linear approximation for a simple car.  What you should notice is that the linear model is similar to the nonlinear model when you are close to the point where the approximation is made.\n",
    "\n",
    "First, run the following block to set up the helper functions needed to simulate the vehicle models and plot the trajectories taken."
   ]
  },
  {
   "cell_type": "code",
   "execution_count": 1,
   "metadata": {},
   "outputs": [],
   "source": [
    "# DO NOT MODIFY THIS BLOCK!\n",
    "''' Problem/Model Setup'''\n",
    "import numpy as np\n",
    "import matplotlib.pyplot as plt\n",
    "%matplotlib inline\n",
    "\n",
    "# Vehicle Model Constants\n",
    "L = 1.0  # length of the car, meters\n",
    "dt = 0.1 # time difference between timestep (k+1) and timestep k, seconds\n",
    "\n",
    "''' Nonlinear Vehicle Model Update Equation '''\n",
    "def nonlinear_vehicle_model(initial_state, inputs, num_steps):\n",
    "    x     = initial_state[0] # x position, meters\n",
    "    y     = initial_state[1] # y position, meters\n",
    "    theta = initial_state[2] # heading (wrt x-axis), radians\n",
    "    v     = initial_state[3] # speed, meters per second\n",
    "    \n",
    "    a = inputs[0]            # acceleration, meters per second squared\n",
    "    phi = inputs[1]          # steering angle, radians\n",
    "    \n",
    "    state_history = []       # array to hold state values as the time step k advances.\n",
    "    state_history.append([x,y,theta,v]) # add the initial state (i.e. k = 0) to history.\n",
    "    \n",
    "    for i in range(0, num_steps):\n",
    "        # Find the next state, at time k+1, by applying the nonlinear model to the current state, at time k.\n",
    "        x_next     = x     + v * np.cos(theta) * dt\n",
    "        y_next     = y     + v * np.sin(theta) * dt\n",
    "        theta_next = theta + v/L * np.tan(phi) * dt\n",
    "        v_next     = v     + a * dt\n",
    "        \n",
    "        # Add the next state to the history.\n",
    "        state_history.append([x_next,y_next,theta_next,v_next])\n",
    "        \n",
    "        # Advance to the next state, at time k+1, to get ready for next loop iteration.\n",
    "        x = x_next\n",
    "        y = y_next\n",
    "        theta = theta_next\n",
    "        v = v_next\n",
    "        \n",
    "    return np.array(state_history)\n",
    "\n",
    "''' Linear Vehicle Model Update Equation '''\n",
    "def linear_vehicle_model(A, B, initial_state, inputs, num_steps):\n",
    "    # Note: A should be a 4x4 matrix, B should be a 4x2 matrix for this linear model.\n",
    "    \n",
    "    x     = initial_state[0] # x position, meters\n",
    "    y     = initial_state[1] # y position, meters\n",
    "    theta = initial_state[2] # heading (wrt x-axis), radians\n",
    "    v     = initial_state[3] # speed, meters per second\n",
    "    \n",
    "    a = inputs[0]            # acceleration, meters per second squared\n",
    "    phi = inputs[1]          # steering angle, radians\n",
    "    \n",
    "    state_history = []       # array to hold state values as the time step k advances.\n",
    "    state_history.append([x,y,theta,v]) # add the initial state (i.e. k = 0) to history.\n",
    "    \n",
    "    for i in range(0, num_steps):\n",
    "        # Find the next state, at time k+1, by applying the nonlinear model to the current state, at time k.\n",
    "        state_next = np.dot(A, state_history[-1]) + np.dot(B, inputs)\n",
    "                \n",
    "        # Add the next state to the history.\n",
    "        state_history.append(state_next)\n",
    "        \n",
    "        # Advance to the next state, at time k+1, to get ready for next loop iteration.\n",
    "        state = state_next\n",
    "        \n",
    "    return np.array(state_history)\n",
    "\n",
    "''' Plotting Setup'''\n",
    "def make_model_comparison_plot(state_predictions_nonlinear, state_predictions_linear):\n",
    "    f = plt.figure()\n",
    "    plt.plot(state_predictions_nonlinear[0,0], state_predictions_nonlinear[0,1], 'go', label='Start')\n",
    "    plt.plot(state_predictions_nonlinear[:,0], state_predictions_nonlinear[:,1], 'r', label='Nonlinear')\n",
    "    plt.plot(state_predictions_linear[:,0], state_predictions_linear[:,1], 'k.', label='Linear')\n",
    "    plt.legend(loc='upper left')\n",
    "    plt.xlim([4, 8])\n",
    "    plt.ylim([9, 12])\n",
    "    plt.show()"
   ]
  },
  {
   "cell_type": "markdown",
   "metadata": {},
   "source": [
    "### Part B\n",
    "\n",
    "Task: Fill in the matrices A and B for the linear system approximating the nonlinear vehicle model under small heading and steering angle approximations."
   ]
  },
  {
   "cell_type": "code",
   "execution_count": 2,
   "metadata": {},
   "outputs": [],
   "source": [
    "# Your code here.\n",
    "A = np.array([[1, 0, 0, 0.1], \n",
    "              [0, 1, 0, 0], \n",
    "              [0, 0, 1, 0], \n",
    "              [0, 0, 0, 1]])\n",
    "\n",
    "B = np.array([[ 0, 0], \n",
    "              [ 0, 0], \n",
    "              [ 0, 0], \n",
    "              [ 0.1, 0]])"
   ]
  },
  {
   "cell_type": "markdown",
   "metadata": {},
   "source": [
    "### Part C\n",
    "\n",
    "Task: Fill out the state and input values from Part C and look at the resulting plot. The plot should help you to visualize the difference between using a linear model and a nonlinear model for this specific starting state and input.\n"
   ]
  },
  {
   "cell_type": "code",
   "execution_count": 6,
   "metadata": {},
   "outputs": [
    {
     "data": {
      "image/png": "[encoded data removed]",
      "text/plain": [
       "<Figure size 432x288 with 1 Axes>"
      ]
     },
     "metadata": {
      "needs_background": "light"
     },
     "output_type": "display_data"
    }
   ],
   "source": [
    "# Your code here.\n",
    "x_init  = 5\n",
    "y_init  = 10\n",
    "theta_init = 0\n",
    "v_init     = 2\n",
    "a_input    = 1\n",
    "phi_input  = 0.0001\n",
    "\n",
    "state_init = [x_init, y_init, theta_init, v_init]\n",
    "state_predictions_nonlinear = nonlinear_vehicle_model(state_init, [a_input, phi_input], 10)\n",
    "state_predictions_linear = linear_vehicle_model(A, B, state_init, [a_input, phi_input], 10)\n",
    "\n",
    "make_model_comparison_plot(state_predictions_nonlinear, state_predictions_linear)\n",
    "\n"
   ]
  },
  {
   "cell_type": "markdown",
   "metadata": {},
   "source": [
    "### Part D\n",
    "    \n",
    "Task: Fill out the state and input values from Problem D and look at the resulting plot.  The plot should help you to visualize the difference between using a linear model and a nonlinear model for this specific starting state and input."
   ]
  },
  {
   "cell_type": "code",
   "execution_count": 7,
   "metadata": {},
   "outputs": [
    {
     "data": {
      "image/png": "[encoded data removed]",
      "text/plain": [
       "<Figure size 432x288 with 1 Axes>"
      ]
     },
     "metadata": {
      "needs_background": "light"
     },
     "output_type": "display_data"
    },
    {
     "name": "stdout",
     "output_type": "stream",
     "text": [
      "[ 6.87984693 11.28998941  1.3384411   3.        ]\n",
      "[ 7.45 10.    0.    3.  ]\n"
     ]
    }
   ],
   "source": [
    "# Your code here.\n",
    "x_init  = 5\n",
    "y_init  = 10\n",
    "theta_init = 0\n",
    "v_init     = 2\n",
    "a_input    = 1\n",
    "phi_input  = 0.5\n",
    "\n",
    "state_init = [x_init, y_init, theta_init, v_init]\n",
    "state_predictions_nonlinear = nonlinear_vehicle_model(state_init, [a_input, phi_input], 10)\n",
    "state_predictions_linear = linear_vehicle_model(A, B, state_init, [a_input, phi_input], 10)\n",
    "\n",
    "make_model_comparison_plot(state_predictions_nonlinear, state_predictions_linear)\n",
    "print(state_predictions_nonlinear[10])\n",
    "print(state_predictions_linear[10])"
   ]
  },
  {
   "cell_type": "code",
   "execution_count": 46,
   "metadata": {
    "scrolled": false
   },
   "outputs": [
    {
     "data": {
      "image/png": "[encoded data removed]",
      "text/plain": [
       "<Figure size 432x288 with 1 Axes>"
      ]
     },
     "metadata": {
      "needs_background": "light"
     },
     "output_type": "display_data"
    }
   ],
   "source": [
    "#Bode Plot\n",
    "\n",
    "import scipy\n",
    "from pylab import *\n",
    "\n",
    "def H(w):\n",
    "    return (0.0016*w*1j) / ((0.0016*w*1j + 1) * (6.6e-6*w*1j + 1)) \n",
    "\n",
    "f = logspace(-1,9) # frequencies from 10**-1 to 10**9\n",
    "xlabel(\"frequency (Hz)\")\n",
    "ylabel(\"magnitude (dB)\")\n",
    "title(\"Log-log plot of Band Pass Filter\")\n",
    "plot(f, 20*log10(abs(H(2*pi*f)))); xscale('log')"
   ]
  },
  {
   "cell_type": "code",
   "execution_count": 78,
   "metadata": {
    "scrolled": true
   },
   "outputs": [
    {
     "data": {
      "image/png": "[encoded data removed]",
      "text/plain": [
       "<Figure size 432x288 with 1 Axes>"
      ]
     },
     "metadata": {
      "needs_background": "light"
     },
     "output_type": "display_data"
    }
   ],
   "source": [
    "import scipy\n",
    "from pylab import *\n",
    "\n",
    "def H(w):\n",
    "    return 1 / sqrt(1 + w*w*1e-6)\n",
    "\n",
    "f = logspace(-1,5) # frequencies from 10**-1 to 10**7\n",
    "xlabel(\"frequency (Hz)\")\n",
    "ylabel(\"magnitude\")\n",
    "title(\"Part F Log-log plot\")\n",
    "plot(f, 20*log10(abs(H(2*pi*f)))); xscale('log')"
   ]
  },
  {
   "cell_type": "code",
   "execution_count": 74,
   "metadata": {
    "scrolled": false
   },
   "outputs": [
    {
     "data": {
      "image/png": "[encoded data removed]",
      "text/plain": [
       "<Figure size 432x288 with 1 Axes>"
      ]
     },
     "metadata": {
      "needs_background": "light"
     },
     "output_type": "display_data"
    }
   ],
   "source": [
    "import scipy\n",
    "from pylab import *\n",
    "\n",
    "def H(w):\n",
    "    return arctan(-w*1e-3) * 180 / pi\n",
    "\n",
    "f = logspace(-1,6) # frequencies from 10**-1 to 10**7\n",
    "xlabel(\"frequency (Hz)\")\n",
    "ylabel(\"phase\")\n",
    "title(\"Part F Semi-log plot\")\n",
    "ylim((-90, 90))\n",
    "semilogx(f, H(2*pi*f))\n",
    "xscale(\"log\")"
   ]
  },
  {
   "cell_type": "code",
   "execution_count": null,
   "metadata": {},
   "outputs": [],
   "source": []
  }
 ],
 "metadata": {
  "anaconda-cloud": {},
  "kernel_info": {
   "name": "python3"
  },
  "kernelspec": {
   "display_name": "Python 3",
   "language": "python",
   "name": "python3"
  },
  "language_info": {
   "codemirror_mode": {
    "name": "ipython",
    "version": 3
   },
   "file_extension": ".py",
   "mimetype": "text/x-python",
   "name": "python",
   "nbconvert_exporter": "python",
   "pygments_lexer": "ipython3",
   "version": "3.7.2"
  },
  "name": "graphs_for_SOE.ipynb",
  "nteract": {
   "version": "0.11.6"
  }
 },
 "nbformat": 4,
 "nbformat_minor": 1
}
