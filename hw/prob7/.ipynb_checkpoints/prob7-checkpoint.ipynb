{
 "cells": [
  {
   "cell_type": "code",
   "execution_count": 4,
   "metadata": {},
   "outputs": [
    {
     "name": "stdout",
     "output_type": "stream",
     "text": [
      "[1. 2. 3.]\n"
     ]
    }
   ],
   "source": [
    "# Your code here.\n",
    "import numpy as np\n",
    "from math import sqrt\n",
    "a = np.array([\n",
    "    [1,0,1,0,0,0,0],\n",
    "    [1,0,0,2,0,0,0],\n",
    "    [0,1,0,0,3,0,0],\n",
    "    [0,1,0,0,0,4,0],\n",
    "    [-1,1,0,0,0,0,5],\n",
    "    [0,0,1,-1,0,0,-1],\n",
    "    [0,0,0,0,1,-1,1],\n",
    "    [5,0,5,0,0,0,0],\n",
    "])\n",
    "np.linalg.solve(a)"
   ]
  }
 ],
 "metadata": {
  "anaconda-cloud": {},
  "kernel_info": {
   "name": "python3"
  },
  "kernelspec": {
   "display_name": "Python 3",
   "language": "python",
   "name": "python3"
  },
  "language_info": {
   "codemirror_mode": {
    "name": "ipython",
    "version": 3
   },
   "file_extension": ".py",
   "mimetype": "text/x-python",
   "name": "python",
   "nbconvert_exporter": "python",
   "pygments_lexer": "ipython3",
   "version": "3.7.2"
  },
  "name": "graphs_for_SOE.ipynb",
  "nteract": {
   "version": "0.11.6"
  }
 },
 "nbformat": 4,
 "nbformat_minor": 1
}
