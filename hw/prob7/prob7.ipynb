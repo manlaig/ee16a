{
 "cells": [
  {
   "cell_type": "code",
   "execution_count": 2,
   "metadata": {
    "scrolled": true
   },
   "outputs": [
    {
     "data": {
      "text/plain": [
       "array([11.05263158, 13.68421053, -6.05263158, -5.52631579, -2.89473684,\n",
       "       -3.42105263, -0.52631579])"
      ]
     },
     "execution_count": 2,
     "metadata": {},
     "output_type": "execute_result"
    }
   ],
   "source": [
    "# Your code here.\n",
    "import numpy as np\n",
    "from math import sqrt\n",
    "a = np.array([\n",
    "    [1,0,1,0,0,0,0],\n",
    "    [1,0,0,2,0,0,0],\n",
    "    [0,1,0,0,3,0,0],\n",
    "    [0,1,0,0,0,4,0],\n",
    "    [-1,1,0,0,0,0,5],\n",
    "    [0,0,1,-1,0,0,-1],\n",
    "    [0,0,0,0,1,-1,1]\n",
    "])\n",
    "\n",
    "b = np.array([5,0,5,0,0,0,0])\n",
    "np.linalg.solve(a,b)"
   ]
  },
  {
   "cell_type": "code",
   "execution_count": null,
   "metadata": {},
   "outputs": [],
   "source": []
  }
 ],
 "metadata": {
  "anaconda-cloud": {},
  "kernel_info": {
   "name": "python3"
  },
  "kernelspec": {
   "display_name": "Python 3",
   "language": "python",
   "name": "python3"
  },
  "language_info": {
   "codemirror_mode": {
    "name": "ipython",
    "version": 3
   },
   "file_extension": ".py",
   "mimetype": "text/x-python",
   "name": "python",
   "nbconvert_exporter": "python",
   "pygments_lexer": "ipython3",
   "version": "3.7.2"
  },
  "name": "graphs_for_SOE.ipynb",
  "nteract": {
   "version": "0.11.6"
  }
 },
 "nbformat": 4,
 "nbformat_minor": 1
}
